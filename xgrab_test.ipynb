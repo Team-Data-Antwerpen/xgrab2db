{
 "cells": [
  {
   "cell_type": "code",
   "execution_count": 1,
   "metadata": {},
   "outputs": [
    {
     "name": "stdout",
     "output_type": "stream",
     "text": [
      "arcpy is not detected, xgrab2geodb will not work\n"
     ]
    }
   ],
   "source": [
    "import xgrablib as xg"
   ]
  },
  {
   "cell_type": "code",
   "execution_count": 3,
   "metadata": {},
   "outputs": [],
   "source": [
    "#Volledige xgrab geen diff\n",
    "BRONDATA = r\"E:\\work\\crab\\data\\GML\\xGRAB11002.gml\"\n",
    "\n",
    "#sqlite db\n",
    "DOEL_DB = r\"E:\\work\\crab\\xgrab.sqlite\"\n",
    "\n",
    "#File Geodatabase, Moet al bestaan, bestaande xgrab-tabellen worden overschreven, geen append\n",
    "DOEL_GDB = r\"E:\\work\\crab\\crab.gdb\""
   ]
  },
  {
   "cell_type": "code",
   "execution_count": 4,
   "metadata": {},
   "outputs": [],
   "source": [
    "xgdb = xg.xgrab2db(BRONDATA, DOEL_DB)\n",
    "\n",
    "xgr = xg.xgrab2geodb(BRONDATA, DOEL_GDB)\n"
   ]
  },
  {
   "cell_type": "code",
   "execution_count": null,
   "metadata": {},
   "outputs": [],
   "source": [
    "xgdb.createAll()"
   ]
  },
  {
   "cell_type": "code",
   "execution_count": 5,
   "metadata": {},
   "outputs": [],
   "source": [
    "\n",
    "xgr.createAll()"
   ]
  }
 ],
 "metadata": {
  "kernelspec": {
   "display_name": "Python 3.9.9 ('base')",
   "language": "python",
   "name": "python3"
  },
  "language_info": {
   "codemirror_mode": {
    "name": "ipython",
    "version": 3
   },
   "file_extension": ".py",
   "mimetype": "text/x-python",
   "name": "python",
   "nbconvert_exporter": "python",
   "pygments_lexer": "ipython3",
   "version": "3.9.9"
  },
  "vscode": {
   "interpreter": {
    "hash": "19d1d53a962d236aa061289c2ac16dc8e6d9648c89fe79f459ae9a3493bc67b4"
   }
  }
 },
 "nbformat": 4,
 "nbformat_minor": 4
}
